{
 "cells": [
  {
   "cell_type": "code",
   "execution_count": 1,
   "id": "2e25cf66",
   "metadata": {},
   "outputs": [],
   "source": [
    "import os\n",
    "import uuid\n",
    "import pickle\n",
    "import boto3\n",
    "import pandas as pd\n",
    "\n",
    "import mlflow\n",
    "\n",
    "from sklearn.feature_extraction import DictVectorizer\n",
    "from sklearn.ensemble import RandomForestRegressor\n",
    "from sklearn.metrics import mean_squared_error\n",
    "from sklearn.pipeline import make_pipeline"
   ]
  },
  {
   "cell_type": "code",
   "execution_count": 2,
   "id": "2df0c624",
   "metadata": {},
   "outputs": [],
   "source": [
    "import dotenv"
   ]
  },
  {
   "cell_type": "code",
   "execution_count": 3,
   "id": "47c6bbe7",
   "metadata": {},
   "outputs": [
    {
     "data": {
      "text/plain": [
       "True"
      ]
     },
     "execution_count": 3,
     "metadata": {},
     "output_type": "execute_result"
    }
   ],
   "source": [
    "dotenv.load_dotenv(\".env\")"
   ]
  },
  {
   "cell_type": "code",
   "execution_count": 4,
   "id": "5887deea",
   "metadata": {},
   "outputs": [],
   "source": [
    "year = 2021\n",
    "month = 2\n",
    "taxi_type = 'green'\n",
    "\n",
    "# input_file = f'https://s3.amazonaws.com/nyc-tlc/trip+data/{taxi_type}_tripdata_{year:04d}-{month:02d}.parquet'\n",
    "input_file =f'https://d37ci6vzurychx.cloudfront.net/trip-data/{taxi_type}_tripdata_{year:04d}-{month:02d}.parquet'\n",
    "output_dir = f\"output/{taxi_type}\"\n",
    "os.makedirs(output_dir,exist_ok=True)\n",
    "output_file = f'{output_dir}/{year:04d}-{month:02d}.parquet'\n",
    "\n",
    "RUN_ID = os.getenv('RUN_ID', 'cc36795ca2fd48e8a176194f450c0ade')"
   ]
  },
  {
   "cell_type": "code",
   "execution_count": 5,
   "id": "f4057158",
   "metadata": {},
   "outputs": [],
   "source": [
    "def upload_file_to_s3(file_name,bucket_name,object_key):\n",
    "    s3 = boto3.client('s3')\n",
    "    s3.upload_file(file_name, bucket_name, object_key)"
   ]
  },
  {
   "cell_type": "code",
   "execution_count": 6,
   "id": "b9666e19",
   "metadata": {},
   "outputs": [],
   "source": [
    "# def generate_uuids(n):\n",
    "#     ride_ids = []\n",
    "#     for i in range(n):\n",
    "#         ride_ids.append(str(uuid.uuid4()))\n",
    "#     return ride_ids\n",
    "\n",
    "def read_dataframe(filename: str):\n",
    "    df = pd.read_parquet(filename)\n",
    "\n",
    "    df['duration'] = df.lpep_dropoff_datetime - df.lpep_pickup_datetime\n",
    "    df.duration = df.duration.dt.total_seconds() / 60\n",
    "    df = df[(df.duration >= 1) & (df.duration <= 60)]\n",
    "    \n",
    "    df['ride_id'] = df.apply(lambda x:str(uuid.uuid4()),axis = 1)\n",
    "\n",
    "    return df\n",
    "\n",
    "\n",
    "def prepare_dictionaries(df: pd.DataFrame):\n",
    "    categorical = ['PULocationID', 'DOLocationID']\n",
    "    df[categorical] = df[categorical].astype(str)\n",
    "    \n",
    "    df['PU_DO'] = df['PULocationID'] + '_' + df['DOLocationID']\n",
    "\n",
    "    categorical = ['PU_DO']\n",
    "    numerical = ['trip_distance']\n",
    "    dicts = df[categorical + numerical].to_dict(orient='records')\n",
    "    return dicts"
   ]
  },
  {
   "cell_type": "code",
   "execution_count": 7,
   "id": "6b5f0d80",
   "metadata": {},
   "outputs": [],
   "source": [
    "def load_model(run_id):\n",
    "    logged_model  = f\"s3://s3-mlflow-artifacts-storage/mlflow/12/{RUN_ID}/artifacts/model\" \n",
    "    model = mlflow.pyfunc.load_model(logged_model)\n",
    "    return model\n",
    "\n",
    "\n",
    "def apply_model(input_file, run_id, output_file):\n",
    "\n",
    "    df = read_dataframe(input_file)\n",
    "    dicts = prepare_dictionaries(df)\n",
    "\n",
    "    \n",
    "    model = load_model(run_id)\n",
    "    y_pred = model.predict(dicts)\n",
    "\n",
    "    df_result = pd.DataFrame()\n",
    "    df_result['ride_id'] = df['ride_id']\n",
    "    df_result['lpep_pickup_datetime'] = df['lpep_pickup_datetime']\n",
    "    df_result['PULocationID'] = df['PULocationID']\n",
    "    df_result['DOLocationID'] = df['DOLocationID']\n",
    "    df_result['actual_duration'] = df['duration']\n",
    "    df_result['predicted_duration'] = y_pred\n",
    "    df_result['diff'] = df_result['actual_duration'] - df_result['predicted_duration']\n",
    "    df_result['model_version'] = run_id\n",
    "    \n",
    "    df_result.to_parquet(output_file, index=False)\n",
    "    return df_result"
   ]
  },
  {
   "cell_type": "code",
   "execution_count": 8,
   "id": "cc2899e7",
   "metadata": {},
   "outputs": [
    {
     "name": "stderr",
     "output_type": "stream",
     "text": [
      "2023/06/18 10:28:32 WARNING mlflow.pyfunc: Detected one or more mismatches between the model's dependencies and the current Python environment:\n",
      " - mlflow (current: 2.3.2, required: mlflow==2.3)\n",
      "To fix the mismatches, call `mlflow.pyfunc.get_model_dependencies(model_uri)` to fetch the model's environment and install dependencies using the resulting environment file.\n"
     ]
    }
   ],
   "source": [
    "df = apply_model(input_file=input_file, run_id=RUN_ID, output_file=output_file)"
   ]
  },
  {
   "cell_type": "code",
   "execution_count": 9,
   "id": "7b2c5056",
   "metadata": {},
   "outputs": [
    {
     "data": {
      "text/html": [
       "<div>\n",
       "<style scoped>\n",
       "    .dataframe tbody tr th:only-of-type {\n",
       "        vertical-align: middle;\n",
       "    }\n",
       "\n",
       "    .dataframe tbody tr th {\n",
       "        vertical-align: top;\n",
       "    }\n",
       "\n",
       "    .dataframe thead th {\n",
       "        text-align: right;\n",
       "    }\n",
       "</style>\n",
       "<table border=\"1\" class=\"dataframe\">\n",
       "  <thead>\n",
       "    <tr style=\"text-align: right;\">\n",
       "      <th></th>\n",
       "      <th>ride_id</th>\n",
       "      <th>lpep_pickup_datetime</th>\n",
       "      <th>PULocationID</th>\n",
       "      <th>DOLocationID</th>\n",
       "      <th>actual_duration</th>\n",
       "      <th>predicted_duration</th>\n",
       "      <th>diff</th>\n",
       "      <th>model_version</th>\n",
       "    </tr>\n",
       "  </thead>\n",
       "  <tbody>\n",
       "    <tr>\n",
       "      <th>0</th>\n",
       "      <td>011bd633-3c73-47a4-8bd2-490f3100dd2b</td>\n",
       "      <td>2021-02-01 00:34:03</td>\n",
       "      <td>130</td>\n",
       "      <td>205</td>\n",
       "      <td>17.916667</td>\n",
       "      <td>18.168946</td>\n",
       "      <td>-0.252279</td>\n",
       "      <td>cc36795ca2fd48e8a176194f450c0ade</td>\n",
       "    </tr>\n",
       "    <tr>\n",
       "      <th>1</th>\n",
       "      <td>f57da1d7-1883-4427-bd6a-129f32da062b</td>\n",
       "      <td>2021-02-01 00:04:00</td>\n",
       "      <td>152</td>\n",
       "      <td>244</td>\n",
       "      <td>6.500000</td>\n",
       "      <td>7.290331</td>\n",
       "      <td>-0.790331</td>\n",
       "      <td>cc36795ca2fd48e8a176194f450c0ade</td>\n",
       "    </tr>\n",
       "    <tr>\n",
       "      <th>2</th>\n",
       "      <td>cd475665-8241-4c87-845a-31062c27d3fd</td>\n",
       "      <td>2021-02-01 00:18:51</td>\n",
       "      <td>152</td>\n",
       "      <td>48</td>\n",
       "      <td>15.250000</td>\n",
       "      <td>21.278875</td>\n",
       "      <td>-6.028875</td>\n",
       "      <td>cc36795ca2fd48e8a176194f450c0ade</td>\n",
       "    </tr>\n",
       "    <tr>\n",
       "      <th>3</th>\n",
       "      <td>2a97c274-5915-4783-ae34-96556173b281</td>\n",
       "      <td>2021-02-01 00:53:27</td>\n",
       "      <td>152</td>\n",
       "      <td>241</td>\n",
       "      <td>18.233333</td>\n",
       "      <td>25.008761</td>\n",
       "      <td>-6.775428</td>\n",
       "      <td>cc36795ca2fd48e8a176194f450c0ade</td>\n",
       "    </tr>\n",
       "    <tr>\n",
       "      <th>4</th>\n",
       "      <td>481866bd-71fb-4525-991d-d56732a13f19</td>\n",
       "      <td>2021-02-01 00:57:46</td>\n",
       "      <td>75</td>\n",
       "      <td>42</td>\n",
       "      <td>8.966667</td>\n",
       "      <td>9.380744</td>\n",
       "      <td>-0.414077</td>\n",
       "      <td>cc36795ca2fd48e8a176194f450c0ade</td>\n",
       "    </tr>\n",
       "  </tbody>\n",
       "</table>\n",
       "</div>"
      ],
      "text/plain": [
       "                                ride_id lpep_pickup_datetime PULocationID   \n",
       "0  011bd633-3c73-47a4-8bd2-490f3100dd2b  2021-02-01 00:34:03          130  \\\n",
       "1  f57da1d7-1883-4427-bd6a-129f32da062b  2021-02-01 00:04:00          152   \n",
       "2  cd475665-8241-4c87-845a-31062c27d3fd  2021-02-01 00:18:51          152   \n",
       "3  2a97c274-5915-4783-ae34-96556173b281  2021-02-01 00:53:27          152   \n",
       "4  481866bd-71fb-4525-991d-d56732a13f19  2021-02-01 00:57:46           75   \n",
       "\n",
       "  DOLocationID  actual_duration  predicted_duration      diff   \n",
       "0          205        17.916667           18.168946 -0.252279  \\\n",
       "1          244         6.500000            7.290331 -0.790331   \n",
       "2           48        15.250000           21.278875 -6.028875   \n",
       "3          241        18.233333           25.008761 -6.775428   \n",
       "4           42         8.966667            9.380744 -0.414077   \n",
       "\n",
       "                      model_version  \n",
       "0  cc36795ca2fd48e8a176194f450c0ade  \n",
       "1  cc36795ca2fd48e8a176194f450c0ade  \n",
       "2  cc36795ca2fd48e8a176194f450c0ade  \n",
       "3  cc36795ca2fd48e8a176194f450c0ade  \n",
       "4  cc36795ca2fd48e8a176194f450c0ade  "
      ]
     },
     "execution_count": 9,
     "metadata": {},
     "output_type": "execute_result"
    }
   ],
   "source": [
    "df.head()"
   ]
  },
  {
   "cell_type": "code",
   "execution_count": 14,
   "id": "235b6b07",
   "metadata": {},
   "outputs": [],
   "source": [
    "object_key = f\"taxi_type={taxi_type}/year={year:04d}/month={month:02d}/{RUN_ID}.parquet\""
   ]
  },
  {
   "cell_type": "code",
   "execution_count": 15,
   "id": "0e48de44",
   "metadata": {},
   "outputs": [],
   "source": [
    "upload_file_to_s3(output_file,'nyc-duration-prediction',object_key)"
   ]
  },
  {
   "cell_type": "code",
   "execution_count": null,
   "id": "345236e9",
   "metadata": {},
   "outputs": [],
   "source": []
  },
  {
   "cell_type": "code",
   "execution_count": 10,
   "id": "b75bd6c9",
   "metadata": {},
   "outputs": [
    {
     "name": "stdout",
     "output_type": "stream",
     "text": [
      "2021-02.parquet\n"
     ]
    }
   ],
   "source": [
    "!ls output/green/"
   ]
  },
  {
   "cell_type": "code",
   "execution_count": null,
   "id": "289d4bc4",
   "metadata": {},
   "outputs": [],
   "source": []
  }
 ],
 "metadata": {
  "kernelspec": {
   "display_name": "Python 3 (ipykernel)",
   "language": "python",
   "name": "python3"
  },
  "language_info": {
   "codemirror_mode": {
    "name": "ipython",
    "version": 3
   },
   "file_extension": ".py",
   "mimetype": "text/x-python",
   "name": "python",
   "nbconvert_exporter": "python",
   "pygments_lexer": "ipython3",
   "version": "3.10.11"
  }
 },
 "nbformat": 4,
 "nbformat_minor": 5
}
